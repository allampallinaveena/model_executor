{
 "cells": [
  {
   "cell_type": "code",
   "execution_count": null,
   "id": "594bf895",
   "metadata": {},
   "outputs": [],
   "source": [
    "from abc import ABC, abstractmethod\n",
    "from typing import Dict, Tuple\n",
    "import config\n",
    "import pandas as pd\n",
    "class loadtransform(ABC):\n",
    "    def __int__(self):\n",
    "        self._vectorpath = f\"{config.model_dir}/vectorizer.pkl\"\n",
    "        self.load_vector_object()\n",
    "    \n",
    "    def load_vector_object(self) -> None:\n",
    "        self._vectorobj = pd.read_pickle(self._vectorpath)\n",
    "\n",
    "    def vectorize (self, load_text):\n",
    "\n",
    "        load_array = self._vectorobj.fit_transform(load_text).toarray()\n",
    "        return load_array"
   ]
  },
  {
   "cell_type": "code",
   "execution_count": null,
   "id": "06619524",
   "metadata": {},
   "outputs": [],
   "source": [
    "loadtransform.vectorize(['new'])"
   ]
  },
  {
   "cell_type": "code",
   "execution_count": null,
   "id": "4f0a6b10",
   "metadata": {},
   "outputs": [],
   "source": [
    "from transform import loadtransform"
   ]
  },
  {
   "cell_type": "code",
   "execution_count": null,
   "id": "d982c7db",
   "metadata": {},
   "outputs": [],
   "source": [
    "loadtransform(['abc']).vectorize()"
   ]
  },
  {
   "cell_type": "code",
   "execution_count": null,
   "id": "18f31d48",
   "metadata": {},
   "outputs": [],
   "source": [
    "loadtransform(['abc'])"
   ]
  },
  {
   "cell_type": "code",
   "execution_count": null,
   "id": "62252300",
   "metadata": {},
   "outputs": [],
   "source": [
    "from model import loadmodel"
   ]
  },
  {
   "cell_type": "code",
   "execution_count": null,
   "id": "bf11f83b",
   "metadata": {},
   "outputs": [],
   "source": [
    "loadmodel().predict([0])"
   ]
  },
  {
   "cell_type": "code",
   "execution_count": 1,
   "id": "60148c45",
   "metadata": {},
   "outputs": [],
   "source": [
    "from main import runprocess\n",
    "import pandas as pd\n",
    "from model import loadmodel\n",
    "from transform import loadtransform"
   ]
  },
  {
   "cell_type": "code",
   "execution_count": 2,
   "id": "ff091668",
   "metadata": {},
   "outputs": [],
   "source": [
    "doc = pd.read_csv('US-Economic-News.csv')"
   ]
  },
  {
   "cell_type": "code",
   "execution_count": 3,
   "id": "de4bd5b7",
   "metadata": {},
   "outputs": [],
   "source": [
    "doc = doc.head()"
   ]
  },
  {
   "cell_type": "code",
   "execution_count": 4,
   "id": "b20efc88",
   "metadata": {},
   "outputs": [
    {
     "data": {
      "text/html": [
       "<div>\n",
       "<style scoped>\n",
       "    .dataframe tbody tr th:only-of-type {\n",
       "        vertical-align: middle;\n",
       "    }\n",
       "\n",
       "    .dataframe tbody tr th {\n",
       "        vertical-align: top;\n",
       "    }\n",
       "\n",
       "    .dataframe thead th {\n",
       "        text-align: right;\n",
       "    }\n",
       "</style>\n",
       "<table border=\"1\" class=\"dataframe\">\n",
       "  <thead>\n",
       "    <tr style=\"text-align: right;\">\n",
       "      <th></th>\n",
       "      <th>_unit_id</th>\n",
       "      <th>_golden</th>\n",
       "      <th>_unit_state</th>\n",
       "      <th>_trusted_judgments</th>\n",
       "      <th>_last_judgment_at</th>\n",
       "      <th>positivity</th>\n",
       "      <th>positivity:confidence</th>\n",
       "      <th>relevance</th>\n",
       "      <th>relevance:confidence</th>\n",
       "      <th>articleid</th>\n",
       "      <th>date</th>\n",
       "      <th>headline</th>\n",
       "      <th>positivity_gold</th>\n",
       "      <th>relevance_gold</th>\n",
       "      <th>text</th>\n",
       "    </tr>\n",
       "  </thead>\n",
       "  <tbody>\n",
       "    <tr>\n",
       "      <th>0</th>\n",
       "      <td>842613455</td>\n",
       "      <td>False</td>\n",
       "      <td>finalized</td>\n",
       "      <td>3</td>\n",
       "      <td>12/5/15 17:48</td>\n",
       "      <td>3.0</td>\n",
       "      <td>0.6400</td>\n",
       "      <td>yes</td>\n",
       "      <td>0.640</td>\n",
       "      <td>wsj_398217788</td>\n",
       "      <td>8/14/91</td>\n",
       "      <td>Yields on CDs Fell in the Latest Week</td>\n",
       "      <td>NaN</td>\n",
       "      <td>NaN</td>\n",
       "      <td>NEW YORK -- Yields on most certificates of dep...</td>\n",
       "    </tr>\n",
       "    <tr>\n",
       "      <th>1</th>\n",
       "      <td>842613456</td>\n",
       "      <td>False</td>\n",
       "      <td>finalized</td>\n",
       "      <td>3</td>\n",
       "      <td>12/5/15 16:54</td>\n",
       "      <td>NaN</td>\n",
       "      <td>NaN</td>\n",
       "      <td>no</td>\n",
       "      <td>1.000</td>\n",
       "      <td>wsj_399019502</td>\n",
       "      <td>8/21/07</td>\n",
       "      <td>The Morning Brief: White House Seeks to Limit ...</td>\n",
       "      <td>NaN</td>\n",
       "      <td>NaN</td>\n",
       "      <td>The Wall Street Journal Online&lt;/br&gt;&lt;/br&gt;The Mo...</td>\n",
       "    </tr>\n",
       "    <tr>\n",
       "      <th>2</th>\n",
       "      <td>842613457</td>\n",
       "      <td>False</td>\n",
       "      <td>finalized</td>\n",
       "      <td>3</td>\n",
       "      <td>12/5/15 1:59</td>\n",
       "      <td>NaN</td>\n",
       "      <td>NaN</td>\n",
       "      <td>no</td>\n",
       "      <td>1.000</td>\n",
       "      <td>wsj_398284048</td>\n",
       "      <td>11/14/91</td>\n",
       "      <td>Banking Bill Negotiators Set Compromise --- Pl...</td>\n",
       "      <td>NaN</td>\n",
       "      <td>NaN</td>\n",
       "      <td>WASHINGTON -- In an effort to achieve banking ...</td>\n",
       "    </tr>\n",
       "    <tr>\n",
       "      <th>3</th>\n",
       "      <td>842613458</td>\n",
       "      <td>False</td>\n",
       "      <td>finalized</td>\n",
       "      <td>3</td>\n",
       "      <td>12/5/15 2:19</td>\n",
       "      <td>NaN</td>\n",
       "      <td>0.0000</td>\n",
       "      <td>no</td>\n",
       "      <td>0.675</td>\n",
       "      <td>wsj_397959018</td>\n",
       "      <td>6/16/86</td>\n",
       "      <td>Manager's Journal: Sniffing Out Drug Abusers I...</td>\n",
       "      <td>NaN</td>\n",
       "      <td>NaN</td>\n",
       "      <td>The statistics on the enormous costs of employ...</td>\n",
       "    </tr>\n",
       "    <tr>\n",
       "      <th>4</th>\n",
       "      <td>842613459</td>\n",
       "      <td>False</td>\n",
       "      <td>finalized</td>\n",
       "      <td>3</td>\n",
       "      <td>12/5/15 17:48</td>\n",
       "      <td>3.0</td>\n",
       "      <td>0.3257</td>\n",
       "      <td>yes</td>\n",
       "      <td>0.640</td>\n",
       "      <td>wsj_398838054</td>\n",
       "      <td>10/4/02</td>\n",
       "      <td>Currency Trading: Dollar Remains in Tight Rang...</td>\n",
       "      <td>NaN</td>\n",
       "      <td>NaN</td>\n",
       "      <td>NEW YORK -- Indecision marked the dollar's ton...</td>\n",
       "    </tr>\n",
       "  </tbody>\n",
       "</table>\n",
       "</div>"
      ],
      "text/plain": [
       "    _unit_id  _golden _unit_state  _trusted_judgments _last_judgment_at  \\\n",
       "0  842613455    False   finalized                   3     12/5/15 17:48   \n",
       "1  842613456    False   finalized                   3     12/5/15 16:54   \n",
       "2  842613457    False   finalized                   3      12/5/15 1:59   \n",
       "3  842613458    False   finalized                   3      12/5/15 2:19   \n",
       "4  842613459    False   finalized                   3     12/5/15 17:48   \n",
       "\n",
       "   positivity  positivity:confidence relevance  relevance:confidence  \\\n",
       "0         3.0                 0.6400       yes                 0.640   \n",
       "1         NaN                    NaN        no                 1.000   \n",
       "2         NaN                    NaN        no                 1.000   \n",
       "3         NaN                 0.0000        no                 0.675   \n",
       "4         3.0                 0.3257       yes                 0.640   \n",
       "\n",
       "       articleid      date                                           headline  \\\n",
       "0  wsj_398217788   8/14/91              Yields on CDs Fell in the Latest Week   \n",
       "1  wsj_399019502   8/21/07  The Morning Brief: White House Seeks to Limit ...   \n",
       "2  wsj_398284048  11/14/91  Banking Bill Negotiators Set Compromise --- Pl...   \n",
       "3  wsj_397959018   6/16/86  Manager's Journal: Sniffing Out Drug Abusers I...   \n",
       "4  wsj_398838054   10/4/02  Currency Trading: Dollar Remains in Tight Rang...   \n",
       "\n",
       "   positivity_gold  relevance_gold  \\\n",
       "0              NaN             NaN   \n",
       "1              NaN             NaN   \n",
       "2              NaN             NaN   \n",
       "3              NaN             NaN   \n",
       "4              NaN             NaN   \n",
       "\n",
       "                                                text  \n",
       "0  NEW YORK -- Yields on most certificates of dep...  \n",
       "1  The Wall Street Journal Online</br></br>The Mo...  \n",
       "2  WASHINGTON -- In an effort to achieve banking ...  \n",
       "3  The statistics on the enormous costs of employ...  \n",
       "4  NEW YORK -- Indecision marked the dollar's ton...  "
      ]
     },
     "execution_count": 4,
     "metadata": {},
     "output_type": "execute_result"
    }
   ],
   "source": [
    "doc"
   ]
  },
  {
   "cell_type": "code",
   "execution_count": 7,
   "id": "207da725",
   "metadata": {},
   "outputs": [
    {
     "name": "stdout",
     "output_type": "stream",
     "text": [
      "2. Transformation Started\n",
      "1 .. Cleaning Started\n",
      "1 .. Cleaning Started\n",
      "1 .. Cleaning Started\n",
      "1 .. Cleaning Started\n",
      "1 .. Cleaning Started\n",
      "a. Loading Pkl file for vectors\n",
      "a.1 . Loading Pkl file for vectors\n",
      "here\n",
      "a.2 . Vector started\n",
      "b.1 . Loading Pkl file for Model\n",
      "b.2 . Loading Pkl file for Model\n",
      "b.3 . Model Prediction started\n"
     ]
    }
   ],
   "source": [
    "preds = runprocess(loadmodel,loadtransform).process_final(doc)"
   ]
  },
  {
   "cell_type": "code",
   "execution_count": 8,
   "id": "4ae81bbe",
   "metadata": {},
   "outputs": [
    {
     "data": {
      "text/plain": [
       "array([1, 0, 0, 0, 0], dtype=int64)"
      ]
     },
     "execution_count": 8,
     "metadata": {},
     "output_type": "execute_result"
    }
   ],
   "source": [
    "preds"
   ]
  },
  {
   "cell_type": "code",
   "execution_count": 9,
   "id": "f464c2bb",
   "metadata": {},
   "outputs": [],
   "source": [
    "doc['preds'] = preds"
   ]
  },
  {
   "cell_type": "code",
   "execution_count": null,
   "id": "575829a3",
   "metadata": {},
   "outputs": [],
   "source": [
    "vectobj = pd.read_pickle('models/vectorizer_v1.pkl')\n",
    "dtobj = pd.read_pickle('models/decisiontree.pkl')"
   ]
  },
  {
   "cell_type": "code",
   "execution_count": null,
   "id": "45c5dbaa",
   "metadata": {},
   "outputs": [],
   "source": [
    "vectobj"
   ]
  },
  {
   "cell_type": "code",
   "execution_count": null,
   "id": "731fa250",
   "metadata": {},
   "outputs": [],
   "source": [
    "from sklearn.feature_extraction.text import TfidfVectorizer as TFIDF\n",
    "t = TFIDF()\n",
    "t.fit_transform(['hello world'], ['this is a test'])\n",
    "\n",
    "# generic serializer - deserializer test\n",
    "def dump_load_test(tfidf, serializer):\n",
    "    with open('vectorizer.bin', 'w') as f:\n",
    "        serializer.dump(tfidf, f)\n",
    "    with open('vectorizer.bin', 'r') as f:\n",
    "        return serializer.load(f)\n",
    "\n",
    "# joblib has a slightly different interface\n",
    ">>> def joblib_test(tfidf):\n",
    "...:    joblib.dump(tfidf, 'tfidf.bin')\n",
    "...:    return joblib.load('tfidf.bin')\n",
    "\n",
    "# Now, time it!\n",
    ">>> %timeit joblib_test(t)\n",
    "100 loops, best of 3: 3.09 ms per loop\n",
    "\n",
    ">>> %timeit dump_load_test(t, pickle)\n",
    "100 loops, best of 3: 2.16 ms per loop\n",
    "\n",
    ">>> %timeit dump_load_test(t, cPickle)\n",
    "1000 loops, best of 3: 879 µs per loop"
   ]
  },
  {
   "cell_type": "code",
   "execution_count": null,
   "id": "97a5fe8e",
   "metadata": {},
   "outputs": [],
   "source": [
    "from sklearn.feature_extraction.text import TfidfVectorizer as TFIDF\n",
    "t = TFIDF()\n",
    "t.fit_transform(['hello world'], ['this is a test'])\n",
    "\n",
    "# generic serializer - deserializer test\n",
    "def dump_load_test(tfidf, serializer):\n",
    "    with open('vectorizer.bin', 'w') as f:\n",
    "        serializer.dump(tfidf, f)\n",
    "    with open('vectorizer.bin', 'r') as f:\n",
    "        return serializer.load(f)"
   ]
  },
  {
   "cell_type": "code",
   "execution_count": null,
   "id": "6ab80e95",
   "metadata": {},
   "outputs": [],
   "source": [
    "t"
   ]
  },
  {
   "cell_type": "code",
   "execution_count": null,
   "id": "69f29e46",
   "metadata": {},
   "outputs": [],
   "source": [
    "import pickle\n",
    "from sklearn.feature_extraction.text import TfidfVectorizer\n",
    "with open('vectorizer.bin', 'w') as f:\n",
    "        pickle.dump(t, f)\n",
    "\n",
    "with open('vectorizer.bin', 'r') as f:\n",
    "    pickle.load(f)"
   ]
  },
  {
   "cell_type": "code",
   "execution_count": null,
   "id": "d819aa67",
   "metadata": {},
   "outputs": [],
   "source": [
    "t.fit_transform(['hello world'], ['this is a test'])"
   ]
  },
  {
   "cell_type": "code",
   "execution_count": null,
   "id": "ebbfcae3",
   "metadata": {},
   "outputs": [],
   "source": [
    "data = pd.read_csv('US-Economic-News.csv')"
   ]
  },
  {
   "cell_type": "code",
   "execution_count": null,
   "id": "6db01b89",
   "metadata": {},
   "outputs": [],
   "source": [
    "import pickle\n",
    "from sklearn.feature_extraction.text import TfidfVectorizer\n",
    "\n",
    "# tf-idf based vectors\n",
    "\n",
    "docs = list(data['text'])\n",
    "tf = TfidfVectorizer(analyzer='word', ngram_range=(1,2), stop_words = \"english\", lowercase = True, max_features = 20000)\n",
    "tfidf_vectorizer_vectors = tf.fit_transform(docs)\n",
    "# Fit the model\n",
    "tf_transformer = tf.fit(list(data['text']))\n",
    "\n",
    "# Dump the file\n",
    "pickle.dump(tf_transformer, open(\"tfidf1.pkl\", \"wb\"))\n",
    "\n",
    "\n",
    "# Testing phase\n",
    "tf1 = pickle.load(open(\"tfidf1.pkl\", 'rb'))\n",
    "\n",
    "# Create new tfidfVectorizer with old vocabulary\n",
    "tf1_new = TfidfVectorizer(analyzer='word', ngram_range=(1,2), stop_words = \"english\", lowercase = True,\n",
    "                          max_features = 20000, vocabulary = tf1.vocabulary_)\n",
    "X_tf1 = tf1_new.fit_transform(['aaa bbb'])"
   ]
  },
  {
   "cell_type": "code",
   "execution_count": null,
   "id": "3a3e020f",
   "metadata": {},
   "outputs": [],
   "source": [
    "tfidf_vectorizer_vectors"
   ]
  },
  {
   "cell_type": "code",
   "execution_count": null,
   "id": "facb6932",
   "metadata": {},
   "outputs": [],
   "source": [
    "X_tf1"
   ]
  },
  {
   "cell_type": "code",
   "execution_count": null,
   "id": "d334be3a",
   "metadata": {},
   "outputs": [],
   "source": [
    "tf.fit_transform(corpus)"
   ]
  },
  {
   "cell_type": "code",
   "execution_count": null,
   "id": "f22d04c9",
   "metadata": {},
   "outputs": [],
   "source": [
    "X_tf1"
   ]
  }
 ],
 "metadata": {
  "kernelspec": {
   "display_name": "Python 3",
   "language": "python",
   "name": "python3"
  },
  "language_info": {
   "codemirror_mode": {
    "name": "ipython",
    "version": 3
   },
   "file_extension": ".py",
   "mimetype": "text/x-python",
   "name": "python",
   "nbconvert_exporter": "python",
   "pygments_lexer": "ipython3",
   "version": "3.8.8"
  }
 },
 "nbformat": 4,
 "nbformat_minor": 5
}
